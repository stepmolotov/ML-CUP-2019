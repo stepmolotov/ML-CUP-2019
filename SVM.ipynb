{
  "nbformat": 4,
  "nbformat_minor": 0,
  "metadata": {
    "colab": {
      "name": "SVM.ipynb",
      "provenance": [],
      "collapsed_sections": [
        "NT1-WvZw6b4A"
      ],
      "toc_visible": true
    },
    "kernelspec": {
      "name": "python3",
      "display_name": "Python 3"
    },
    "accelerator": "TPU"
  },
  "cells": [
    {
      "cell_type": "markdown",
      "metadata": {
        "id": "OJHTMqpD_AJH",
        "colab_type": "text"
      },
      "source": [
        "# Data \n"
      ]
    },
    {
      "cell_type": "code",
      "metadata": {
        "id": "J107cA3E-rH8",
        "colab_type": "code",
        "colab": {}
      },
      "source": [
        "import time\n",
        "import math\n",
        "import numpy as np\n",
        "import pandas as pd\n",
        "import seaborn as sns\n",
        "from matplotlib import pyplot as plt\n",
        "from google.colab import files\n",
        "\n",
        "# ---------- File Loading ---------- #\n",
        "dev_link = 'https://raw.githubusercontent.com/stepmolotov/MachineLearning-CUP-2019/master/ML-CUP19-TR.csv'\n",
        "# dropping comments (first 7 rows)\n",
        "data = pd.read_csv(dev_link, skiprows=7, header=None)\n",
        "# print('before: ({},{})'.format(data.shape[0], data.shape[1]))\n",
        "# dropping indexes column\n",
        "data.drop(axis=1, columns=0, inplace=True)\n",
        "# data.head()"
      ],
      "execution_count": 0,
      "outputs": []
    },
    {
      "cell_type": "code",
      "metadata": {
        "id": "Pc1JhNi3Zw7g",
        "colab_type": "code",
        "outputId": "b1c711bc-bd6e-4bb8-8c15-9d8fd798e093",
        "colab": {
          "base_uri": "https://localhost:8080/",
          "height": 54
        }
      },
      "source": [
        "from sklearn.model_selection import train_test_split\n",
        "# from sklearn.model_selection import cross_val_score\n",
        "\n",
        "# ----- Splitting Data ----- #\n",
        "target = data[data.columns[-2:]]\n",
        "target.columns = ['x', 'y']\n",
        "X = data[data.columns[:-2]]\n",
        "y = target\n",
        "# y.plot(kind='scatter', x='x', y='y')\n",
        "print('X: ({},{})'.format(X.shape[0], X.shape[1]))\n",
        "print('y: ({},{})'.format(y.shape[0], y.shape[1]))\n",
        "\n",
        "# keeping out some rows as the test set\n",
        "X = X.values\n",
        "y = y.values\n",
        "train_X, test_X, train_y, test_y = train_test_split(X, y, test_size=0.2, random_state=1)\n"
      ],
      "execution_count": 0,
      "outputs": [
        {
          "output_type": "stream",
          "text": [
            "X: (1765,20)\n",
            "y: (1765,2)\n"
          ],
          "name": "stdout"
        }
      ]
    },
    {
      "cell_type": "markdown",
      "metadata": {
        "colab_type": "text",
        "id": "ydhs_t680PU5"
      },
      "source": [
        "# SVM"
      ]
    },
    {
      "cell_type": "code",
      "metadata": {
        "id": "dBa5c8Izla_W",
        "colab_type": "code",
        "colab": {}
      },
      "source": [
        "from sklearn.svm import SVR\n",
        "from sklearn.pipeline import Pipeline\n",
        "from sklearn.multioutput import MultiOutputRegressor\n",
        "from sklearn.model_selection import GridSearchCV"
      ],
      "execution_count": 0,
      "outputs": []
    },
    {
      "cell_type": "code",
      "metadata": {
        "id": "vF_Z1N3XqoNC",
        "colab_type": "code",
        "colab": {}
      },
      "source": [
        "# Gets the best models out of the grid search results\n",
        "def report(results, n_top=3, metric='loss', simple=False):\n",
        "  if simple:\n",
        "    for i in range(1, n_top + 1):\n",
        "        candidates = np.flatnonzero(results['rank_test_score'] == i)\n",
        "        for candidate in candidates:\n",
        "            print(\"Model with rank: {0}\".format(i))\n",
        "            print(\"Mean validation score: {0:.4f} (std: {1:.4f})\"\n",
        "                  .format(results['mean_test_score'][candidate],\n",
        "                          results['std_test_score'][candidate]))\n",
        "            print(\"Parameters: {0}\".format(results['params'][candidate]))\n",
        "            print(\"\")\n",
        "  else:\n",
        "    for i in range(1, n_top + 1):\n",
        "        candidates = np.flatnonzero(results['rank_test_'+metric] == i)\n",
        "        for candidate in candidates:\n",
        "            print(\"Model with rank: {0}\".format(i))\n",
        "            print(\"(loss) Mean validation score: {0:.4f} (std: {1:.4f})\".format(\n",
        "                  -1*results['mean_test_loss'][candidate],\n",
        "                  results['std_test_loss'][candidate]))\n",
        "            print(\"(mee) Mean validation score: {0:.4f} (std: {1:.4f})\".format(\n",
        "                  results['mean_test_mee'][candidate],\n",
        "                  results['std_test_mee'][candidate]))\n",
        "            print(\"--- Parameters: {0}\".format(results['params'][candidate]))\n",
        "            print(\"\")\n",
        "\n",
        "from sklearn.metrics import make_scorer\n",
        "\n",
        "def mean_euclidean_error(X, Y):\n",
        "    sum = 0\n",
        "    for x, y in zip(X, Y):\n",
        "        sum += np.linalg.norm(x - y, ord=2)\n",
        "    return sum / X.shape[0]\n",
        "\n",
        "#scoring = {'loss': 'neg_mean_squared_error', 'mee': make_scorer(mean_euclidean_error)}\n",
        "scores = {'loss': 'neg_mean_squared_error', 'mee': make_scorer(mean_euclidean_error)}"
      ],
      "execution_count": 0,
      "outputs": []
    },
    {
      "cell_type": "code",
      "metadata": {
        "id": "e1cMZpeoui7D",
        "colab_type": "code",
        "colab": {}
      },
      "source": [
        "# defining pipelines\n",
        "rbf_pipe = Pipeline([('reg', MultiOutputRegressor(SVR(verbose=True, kernel='rbf')))])\n",
        "poly_pipe = Pipeline([('reg', MultiOutputRegressor(SVR(verbose=True, kernel='poly')))])"
      ],
      "execution_count": 0,
      "outputs": []
    },
    {
      "cell_type": "code",
      "metadata": {
        "id": "eniMGWWvwzs5",
        "colab_type": "code",
        "outputId": "36616618-e5f3-41cb-d87f-c6ef9c117aa8",
        "colab": {
          "base_uri": "https://localhost:8080/",
          "height": 56
        }
      },
      "source": [
        "rbf_pipe.get_params().keys()"
      ],
      "execution_count": 0,
      "outputs": [
        {
          "output_type": "execute_result",
          "data": {
            "text/plain": [
              "dict_keys(['memory', 'steps', 'verbose', 'reg', 'reg__estimator__C', 'reg__estimator__cache_size', 'reg__estimator__coef0', 'reg__estimator__degree', 'reg__estimator__epsilon', 'reg__estimator__gamma', 'reg__estimator__kernel', 'reg__estimator__max_iter', 'reg__estimator__shrinking', 'reg__estimator__tol', 'reg__estimator__verbose', 'reg__estimator', 'reg__n_jobs'])"
            ]
          },
          "metadata": {
            "tags": []
          },
          "execution_count": 6
        }
      ]
    },
    {
      "cell_type": "markdown",
      "metadata": {
        "id": "gxNPZngolRev",
        "colab_type": "text"
      },
      "source": [
        "## RBF Kernel"
      ]
    },
    {
      "cell_type": "code",
      "metadata": {
        "id": "gmiGpr9lwGw1",
        "colab_type": "code",
        "outputId": "190f3a40-5d46-457e-aae1-517f6b49f49e",
        "colab": {
          "base_uri": "https://localhost:8080/",
          "height": 185
        }
      },
      "source": [
        "# pipeline version\n",
        "grid_params = {\n",
        "    'reg__estimator__gamma': ['scale', 'auto'],\n",
        "    'reg__estimator__epsilon': [0.001, 0.01, 0.1, 1, 10, 100, 1000],\n",
        "    'reg__estimator__C': [0.001, 0.01, 0.1, 1, 10, 100, 1000],\n",
        "    'reg__estimator__shrinking': [True]\n",
        "    #'reg__estimator__degree': [2, 3, 4]\n",
        "}\n",
        "\n",
        "rbf_hyp_search = GridSearchCV(estimator=rbf_pipe, param_grid=grid_params, cv=10, scoring=scores, n_jobs=-1, verbose=1, refit=False, return_train_score=True)\n",
        "\n",
        "start = time.time()\n",
        "rbf_hyp_search.fit(train_X, train_y)\n",
        "end = time.time()\n",
        "print('Grid time: ' + str(end - start))"
      ],
      "execution_count": 0,
      "outputs": [
        {
          "output_type": "stream",
          "text": [
            "Fitting 10 folds for each of 196 candidates, totalling 1960 fits\n"
          ],
          "name": "stdout"
        },
        {
          "output_type": "stream",
          "text": [
            "[Parallel(n_jobs=-1)]: Using backend LokyBackend with 2 concurrent workers.\n",
            "[Parallel(n_jobs=-1)]: Done  46 tasks      | elapsed:   16.1s\n",
            "[Parallel(n_jobs=-1)]: Done 196 tasks      | elapsed:   54.1s\n",
            "[Parallel(n_jobs=-1)]: Done 646 tasks      | elapsed:  2.3min\n",
            "[Parallel(n_jobs=-1)]: Done 1190 tasks      | elapsed:  4.1min\n",
            "[Parallel(n_jobs=-1)]: Done 1816 tasks      | elapsed: 58.6min\n"
          ],
          "name": "stderr"
        },
        {
          "output_type": "stream",
          "text": [
            "Grid time: 3607.62411904335\n"
          ],
          "name": "stdout"
        },
        {
          "output_type": "stream",
          "text": [
            "[Parallel(n_jobs=-1)]: Done 1960 out of 1960 | elapsed: 60.1min finished\n"
          ],
          "name": "stderr"
        }
      ]
    },
    {
      "cell_type": "code",
      "metadata": {
        "id": "vngZ1yLCHjwl",
        "colab_type": "code",
        "outputId": "4f787427-c718-4393-b670-acad74f7aabb",
        "colab": {
          "base_uri": "https://localhost:8080/",
          "height": 400
        }
      },
      "source": [
        "results = pd.DataFrame(rbf_hyp_search.cv_results_)\n",
        "results.sort_values(by=['param_reg__estimator__epsilon'], inplace=True, ascending=False)\n",
        "results.head()"
      ],
      "execution_count": 0,
      "outputs": [
        {
          "output_type": "execute_result",
          "data": {
            "text/html": [
              "<div>\n",
              "<style scoped>\n",
              "    .dataframe tbody tr th:only-of-type {\n",
              "        vertical-align: middle;\n",
              "    }\n",
              "\n",
              "    .dataframe tbody tr th {\n",
              "        vertical-align: top;\n",
              "    }\n",
              "\n",
              "    .dataframe thead th {\n",
              "        text-align: right;\n",
              "    }\n",
              "</style>\n",
              "<table border=\"1\" class=\"dataframe\">\n",
              "  <thead>\n",
              "    <tr style=\"text-align: right;\">\n",
              "      <th></th>\n",
              "      <th>mean_fit_time</th>\n",
              "      <th>std_fit_time</th>\n",
              "      <th>mean_score_time</th>\n",
              "      <th>std_score_time</th>\n",
              "      <th>param_reg__estimator__C</th>\n",
              "      <th>param_reg__estimator__epsilon</th>\n",
              "      <th>param_reg__estimator__gamma</th>\n",
              "      <th>param_reg__estimator__shrinking</th>\n",
              "      <th>params</th>\n",
              "      <th>split0_test_loss</th>\n",
              "      <th>split1_test_loss</th>\n",
              "      <th>split2_test_loss</th>\n",
              "      <th>split3_test_loss</th>\n",
              "      <th>split4_test_loss</th>\n",
              "      <th>split5_test_loss</th>\n",
              "      <th>split6_test_loss</th>\n",
              "      <th>split7_test_loss</th>\n",
              "      <th>split8_test_loss</th>\n",
              "      <th>split9_test_loss</th>\n",
              "      <th>mean_test_loss</th>\n",
              "      <th>std_test_loss</th>\n",
              "      <th>rank_test_loss</th>\n",
              "      <th>split0_train_loss</th>\n",
              "      <th>split1_train_loss</th>\n",
              "      <th>split2_train_loss</th>\n",
              "      <th>split3_train_loss</th>\n",
              "      <th>split4_train_loss</th>\n",
              "      <th>split5_train_loss</th>\n",
              "      <th>split6_train_loss</th>\n",
              "      <th>split7_train_loss</th>\n",
              "      <th>split8_train_loss</th>\n",
              "      <th>split9_train_loss</th>\n",
              "      <th>mean_train_loss</th>\n",
              "      <th>std_train_loss</th>\n",
              "      <th>split0_test_mee</th>\n",
              "      <th>split1_test_mee</th>\n",
              "      <th>split2_test_mee</th>\n",
              "      <th>split3_test_mee</th>\n",
              "      <th>split4_test_mee</th>\n",
              "      <th>split5_test_mee</th>\n",
              "      <th>split6_test_mee</th>\n",
              "      <th>split7_test_mee</th>\n",
              "      <th>split8_test_mee</th>\n",
              "      <th>split9_test_mee</th>\n",
              "      <th>mean_test_mee</th>\n",
              "      <th>std_test_mee</th>\n",
              "      <th>rank_test_mee</th>\n",
              "      <th>split0_train_mee</th>\n",
              "      <th>split1_train_mee</th>\n",
              "      <th>split2_train_mee</th>\n",
              "      <th>split3_train_mee</th>\n",
              "      <th>split4_train_mee</th>\n",
              "      <th>split5_train_mee</th>\n",
              "      <th>split6_train_mee</th>\n",
              "      <th>split7_train_mee</th>\n",
              "      <th>split8_train_mee</th>\n",
              "      <th>split9_train_mee</th>\n",
              "      <th>mean_train_mee</th>\n",
              "      <th>std_train_mee</th>\n",
              "    </tr>\n",
              "  </thead>\n",
              "  <tbody>\n",
              "    <tr>\n",
              "      <th>195</th>\n",
              "      <td>0.007650</td>\n",
              "      <td>0.000377</td>\n",
              "      <td>0.002802</td>\n",
              "      <td>0.000210</td>\n",
              "      <td>1000</td>\n",
              "      <td>1000</td>\n",
              "      <td>auto</td>\n",
              "      <td>False</td>\n",
              "      <td>{'reg__estimator__C': 1000, 'reg__estimator__e...</td>\n",
              "      <td>-43.168176</td>\n",
              "      <td>-38.87498</td>\n",
              "      <td>-41.189353</td>\n",
              "      <td>-40.493249</td>\n",
              "      <td>-40.898215</td>\n",
              "      <td>-46.789697</td>\n",
              "      <td>-40.079989</td>\n",
              "      <td>-44.788576</td>\n",
              "      <td>-38.036566</td>\n",
              "      <td>-46.186497</td>\n",
              "      <td>-42.05053</td>\n",
              "      <td>2.878986</td>\n",
              "      <td>141</td>\n",
              "      <td>-41.927827</td>\n",
              "      <td>-42.407854</td>\n",
              "      <td>-42.156542</td>\n",
              "      <td>-42.215984</td>\n",
              "      <td>-42.180624</td>\n",
              "      <td>-41.527045</td>\n",
              "      <td>-42.27183</td>\n",
              "      <td>-41.736835</td>\n",
              "      <td>-42.498085</td>\n",
              "      <td>-41.593962</td>\n",
              "      <td>-42.051659</td>\n",
              "      <td>0.320692</td>\n",
              "      <td>8.790703</td>\n",
              "      <td>8.327945</td>\n",
              "      <td>8.598178</td>\n",
              "      <td>8.505083</td>\n",
              "      <td>8.523782</td>\n",
              "      <td>9.192649</td>\n",
              "      <td>8.452702</td>\n",
              "      <td>8.950118</td>\n",
              "      <td>8.228084</td>\n",
              "      <td>9.036912</td>\n",
              "      <td>8.660616</td>\n",
              "      <td>0.30219</td>\n",
              "      <td>29</td>\n",
              "      <td>8.646421</td>\n",
              "      <td>8.698162</td>\n",
              "      <td>8.670038</td>\n",
              "      <td>8.676714</td>\n",
              "      <td>8.676145</td>\n",
              "      <td>8.601944</td>\n",
              "      <td>8.684095</td>\n",
              "      <td>8.625639</td>\n",
              "      <td>8.708949</td>\n",
              "      <td>8.619221</td>\n",
              "      <td>8.660733</td>\n",
              "      <td>0.033863</td>\n",
              "    </tr>\n",
              "    <tr>\n",
              "      <th>81</th>\n",
              "      <td>0.007702</td>\n",
              "      <td>0.002042</td>\n",
              "      <td>0.003812</td>\n",
              "      <td>0.000686</td>\n",
              "      <td>0.1</td>\n",
              "      <td>1000</td>\n",
              "      <td>scale</td>\n",
              "      <td>False</td>\n",
              "      <td>{'reg__estimator__C': 0.1, 'reg__estimator__ep...</td>\n",
              "      <td>-43.168176</td>\n",
              "      <td>-38.87498</td>\n",
              "      <td>-41.189353</td>\n",
              "      <td>-40.493249</td>\n",
              "      <td>-40.898215</td>\n",
              "      <td>-46.789697</td>\n",
              "      <td>-40.079989</td>\n",
              "      <td>-44.788576</td>\n",
              "      <td>-38.036566</td>\n",
              "      <td>-46.186497</td>\n",
              "      <td>-42.05053</td>\n",
              "      <td>2.878986</td>\n",
              "      <td>141</td>\n",
              "      <td>-41.927827</td>\n",
              "      <td>-42.407854</td>\n",
              "      <td>-42.156542</td>\n",
              "      <td>-42.215984</td>\n",
              "      <td>-42.180624</td>\n",
              "      <td>-41.527045</td>\n",
              "      <td>-42.27183</td>\n",
              "      <td>-41.736835</td>\n",
              "      <td>-42.498085</td>\n",
              "      <td>-41.593962</td>\n",
              "      <td>-42.051659</td>\n",
              "      <td>0.320692</td>\n",
              "      <td>8.790703</td>\n",
              "      <td>8.327945</td>\n",
              "      <td>8.598178</td>\n",
              "      <td>8.505083</td>\n",
              "      <td>8.523782</td>\n",
              "      <td>9.192649</td>\n",
              "      <td>8.452702</td>\n",
              "      <td>8.950118</td>\n",
              "      <td>8.228084</td>\n",
              "      <td>9.036912</td>\n",
              "      <td>8.660616</td>\n",
              "      <td>0.30219</td>\n",
              "      <td>29</td>\n",
              "      <td>8.646421</td>\n",
              "      <td>8.698162</td>\n",
              "      <td>8.670038</td>\n",
              "      <td>8.676714</td>\n",
              "      <td>8.676145</td>\n",
              "      <td>8.601944</td>\n",
              "      <td>8.684095</td>\n",
              "      <td>8.625639</td>\n",
              "      <td>8.708949</td>\n",
              "      <td>8.619221</td>\n",
              "      <td>8.660733</td>\n",
              "      <td>0.033863</td>\n",
              "    </tr>\n",
              "    <tr>\n",
              "      <th>27</th>\n",
              "      <td>0.008125</td>\n",
              "      <td>0.003379</td>\n",
              "      <td>0.004278</td>\n",
              "      <td>0.001408</td>\n",
              "      <td>0.001</td>\n",
              "      <td>1000</td>\n",
              "      <td>auto</td>\n",
              "      <td>False</td>\n",
              "      <td>{'reg__estimator__C': 0.001, 'reg__estimator__...</td>\n",
              "      <td>-43.168176</td>\n",
              "      <td>-38.87498</td>\n",
              "      <td>-41.189353</td>\n",
              "      <td>-40.493249</td>\n",
              "      <td>-40.898215</td>\n",
              "      <td>-46.789697</td>\n",
              "      <td>-40.079989</td>\n",
              "      <td>-44.788576</td>\n",
              "      <td>-38.036566</td>\n",
              "      <td>-46.186497</td>\n",
              "      <td>-42.05053</td>\n",
              "      <td>2.878986</td>\n",
              "      <td>141</td>\n",
              "      <td>-41.927827</td>\n",
              "      <td>-42.407854</td>\n",
              "      <td>-42.156542</td>\n",
              "      <td>-42.215984</td>\n",
              "      <td>-42.180624</td>\n",
              "      <td>-41.527045</td>\n",
              "      <td>-42.27183</td>\n",
              "      <td>-41.736835</td>\n",
              "      <td>-42.498085</td>\n",
              "      <td>-41.593962</td>\n",
              "      <td>-42.051659</td>\n",
              "      <td>0.320692</td>\n",
              "      <td>8.790703</td>\n",
              "      <td>8.327945</td>\n",
              "      <td>8.598178</td>\n",
              "      <td>8.505083</td>\n",
              "      <td>8.523782</td>\n",
              "      <td>9.192649</td>\n",
              "      <td>8.452702</td>\n",
              "      <td>8.950118</td>\n",
              "      <td>8.228084</td>\n",
              "      <td>9.036912</td>\n",
              "      <td>8.660616</td>\n",
              "      <td>0.30219</td>\n",
              "      <td>29</td>\n",
              "      <td>8.646421</td>\n",
              "      <td>8.698162</td>\n",
              "      <td>8.670038</td>\n",
              "      <td>8.676714</td>\n",
              "      <td>8.676145</td>\n",
              "      <td>8.601944</td>\n",
              "      <td>8.684095</td>\n",
              "      <td>8.625639</td>\n",
              "      <td>8.708949</td>\n",
              "      <td>8.619221</td>\n",
              "      <td>8.660733</td>\n",
              "      <td>0.033863</td>\n",
              "    </tr>\n",
              "    <tr>\n",
              "      <th>26</th>\n",
              "      <td>0.005233</td>\n",
              "      <td>0.001300</td>\n",
              "      <td>0.003679</td>\n",
              "      <td>0.000328</td>\n",
              "      <td>0.001</td>\n",
              "      <td>1000</td>\n",
              "      <td>auto</td>\n",
              "      <td>True</td>\n",
              "      <td>{'reg__estimator__C': 0.001, 'reg__estimator__...</td>\n",
              "      <td>-43.168176</td>\n",
              "      <td>-38.87498</td>\n",
              "      <td>-41.189353</td>\n",
              "      <td>-40.493249</td>\n",
              "      <td>-40.898215</td>\n",
              "      <td>-46.789697</td>\n",
              "      <td>-40.079989</td>\n",
              "      <td>-44.788576</td>\n",
              "      <td>-38.036566</td>\n",
              "      <td>-46.186497</td>\n",
              "      <td>-42.05053</td>\n",
              "      <td>2.878986</td>\n",
              "      <td>141</td>\n",
              "      <td>-41.927827</td>\n",
              "      <td>-42.407854</td>\n",
              "      <td>-42.156542</td>\n",
              "      <td>-42.215984</td>\n",
              "      <td>-42.180624</td>\n",
              "      <td>-41.527045</td>\n",
              "      <td>-42.27183</td>\n",
              "      <td>-41.736835</td>\n",
              "      <td>-42.498085</td>\n",
              "      <td>-41.593962</td>\n",
              "      <td>-42.051659</td>\n",
              "      <td>0.320692</td>\n",
              "      <td>8.790703</td>\n",
              "      <td>8.327945</td>\n",
              "      <td>8.598178</td>\n",
              "      <td>8.505083</td>\n",
              "      <td>8.523782</td>\n",
              "      <td>9.192649</td>\n",
              "      <td>8.452702</td>\n",
              "      <td>8.950118</td>\n",
              "      <td>8.228084</td>\n",
              "      <td>9.036912</td>\n",
              "      <td>8.660616</td>\n",
              "      <td>0.30219</td>\n",
              "      <td>29</td>\n",
              "      <td>8.646421</td>\n",
              "      <td>8.698162</td>\n",
              "      <td>8.670038</td>\n",
              "      <td>8.676714</td>\n",
              "      <td>8.676145</td>\n",
              "      <td>8.601944</td>\n",
              "      <td>8.684095</td>\n",
              "      <td>8.625639</td>\n",
              "      <td>8.708949</td>\n",
              "      <td>8.619221</td>\n",
              "      <td>8.660733</td>\n",
              "      <td>0.033863</td>\n",
              "    </tr>\n",
              "    <tr>\n",
              "      <th>25</th>\n",
              "      <td>0.008150</td>\n",
              "      <td>0.001997</td>\n",
              "      <td>0.003772</td>\n",
              "      <td>0.001045</td>\n",
              "      <td>0.001</td>\n",
              "      <td>1000</td>\n",
              "      <td>scale</td>\n",
              "      <td>False</td>\n",
              "      <td>{'reg__estimator__C': 0.001, 'reg__estimator__...</td>\n",
              "      <td>-43.168176</td>\n",
              "      <td>-38.87498</td>\n",
              "      <td>-41.189353</td>\n",
              "      <td>-40.493249</td>\n",
              "      <td>-40.898215</td>\n",
              "      <td>-46.789697</td>\n",
              "      <td>-40.079989</td>\n",
              "      <td>-44.788576</td>\n",
              "      <td>-38.036566</td>\n",
              "      <td>-46.186497</td>\n",
              "      <td>-42.05053</td>\n",
              "      <td>2.878986</td>\n",
              "      <td>141</td>\n",
              "      <td>-41.927827</td>\n",
              "      <td>-42.407854</td>\n",
              "      <td>-42.156542</td>\n",
              "      <td>-42.215984</td>\n",
              "      <td>-42.180624</td>\n",
              "      <td>-41.527045</td>\n",
              "      <td>-42.27183</td>\n",
              "      <td>-41.736835</td>\n",
              "      <td>-42.498085</td>\n",
              "      <td>-41.593962</td>\n",
              "      <td>-42.051659</td>\n",
              "      <td>0.320692</td>\n",
              "      <td>8.790703</td>\n",
              "      <td>8.327945</td>\n",
              "      <td>8.598178</td>\n",
              "      <td>8.505083</td>\n",
              "      <td>8.523782</td>\n",
              "      <td>9.192649</td>\n",
              "      <td>8.452702</td>\n",
              "      <td>8.950118</td>\n",
              "      <td>8.228084</td>\n",
              "      <td>9.036912</td>\n",
              "      <td>8.660616</td>\n",
              "      <td>0.30219</td>\n",
              "      <td>29</td>\n",
              "      <td>8.646421</td>\n",
              "      <td>8.698162</td>\n",
              "      <td>8.670038</td>\n",
              "      <td>8.676714</td>\n",
              "      <td>8.676145</td>\n",
              "      <td>8.601944</td>\n",
              "      <td>8.684095</td>\n",
              "      <td>8.625639</td>\n",
              "      <td>8.708949</td>\n",
              "      <td>8.619221</td>\n",
              "      <td>8.660733</td>\n",
              "      <td>0.033863</td>\n",
              "    </tr>\n",
              "  </tbody>\n",
              "</table>\n",
              "</div>"
            ],
            "text/plain": [
              "     mean_fit_time  std_fit_time  ...  mean_train_mee  std_train_mee\n",
              "195       0.007650      0.000377  ...        8.660733       0.033863\n",
              "81        0.007702      0.002042  ...        8.660733       0.033863\n",
              "27        0.008125      0.003379  ...        8.660733       0.033863\n",
              "26        0.005233      0.001300  ...        8.660733       0.033863\n",
              "25        0.008150      0.001997  ...        8.660733       0.033863\n",
              "\n",
              "[5 rows x 59 columns]"
            ]
          },
          "metadata": {
            "tags": []
          },
          "execution_count": 86
        }
      ]
    },
    {
      "cell_type": "code",
      "metadata": {
        "id": "lmCiSxxlLZto",
        "colab_type": "code",
        "outputId": "a7f306dc-9739-49c9-b50f-ffe9afa33ecb",
        "colab": {
          "base_uri": "https://localhost:8080/",
          "height": 576
        }
      },
      "source": [
        "report(results=rbf_hyp_search.cv_results_, n_top=6)"
      ],
      "execution_count": 0,
      "outputs": [
        {
          "output_type": "stream",
          "text": [
            "Model with rank: 1\n",
            "(loss) Mean validation score: 0.9443 (std: 0.1203)\n",
            "(mee) Mean validation score: 1.0076 (std: 0.0520)\n",
            "--- Parameters: {'reg__estimator__C': 100, 'reg__estimator__epsilon': 0.1, 'reg__estimator__gamma': 'auto', 'reg__estimator__shrinking': True}\n",
            "\n",
            "Model with rank: 2\n",
            "(loss) Mean validation score: 0.9443 (std: 0.1203)\n",
            "(mee) Mean validation score: 1.0076 (std: 0.0520)\n",
            "--- Parameters: {'reg__estimator__C': 100, 'reg__estimator__epsilon': 0.1, 'reg__estimator__gamma': 'auto', 'reg__estimator__shrinking': False}\n",
            "\n",
            "Model with rank: 3\n",
            "(loss) Mean validation score: 0.9467 (std: 0.1247)\n",
            "(mee) Mean validation score: 1.0107 (std: 0.0543)\n",
            "--- Parameters: {'reg__estimator__C': 100, 'reg__estimator__epsilon': 0.1, 'reg__estimator__gamma': 'scale', 'reg__estimator__shrinking': True}\n",
            "\n",
            "Model with rank: 4\n",
            "(loss) Mean validation score: 0.9467 (std: 0.1247)\n",
            "(mee) Mean validation score: 1.0107 (std: 0.0543)\n",
            "--- Parameters: {'reg__estimator__C': 100, 'reg__estimator__epsilon': 0.1, 'reg__estimator__gamma': 'scale', 'reg__estimator__shrinking': False}\n",
            "\n",
            "Model with rank: 5\n",
            "(loss) Mean validation score: 0.9632 (std: 0.1336)\n",
            "(mee) Mean validation score: 1.0092 (std: 0.0582)\n",
            "--- Parameters: {'reg__estimator__C': 100, 'reg__estimator__epsilon': 0.01, 'reg__estimator__gamma': 'auto', 'reg__estimator__shrinking': True}\n",
            "\n",
            "Model with rank: 6\n",
            "(loss) Mean validation score: 0.9632 (std: 0.1336)\n",
            "(mee) Mean validation score: 1.0092 (std: 0.0582)\n",
            "--- Parameters: {'reg__estimator__C': 100, 'reg__estimator__epsilon': 0.01, 'reg__estimator__gamma': 'auto', 'reg__estimator__shrinking': False}\n",
            "\n"
          ],
          "name": "stdout"
        }
      ]
    },
    {
      "cell_type": "code",
      "metadata": {
        "id": "gNuhu2XwioRk",
        "colab_type": "code",
        "outputId": "c5e3fdb3-d8c8-4552-8531-6343443e2ee6",
        "colab": {
          "base_uri": "https://localhost:8080/",
          "height": 279
        }
      },
      "source": [
        "# Heatmap print\n",
        "results_heat = pd.DataFrame()\n",
        "results_heat['C'] = results['param_reg__estimator__C']\n",
        "results_heat['ε'] = results['param_reg__estimator__epsilon']\n",
        "results_heat['MSE'] = -1*results['mean_test_loss']\n",
        "results_heat = results_heat.apply(lambda x: pd.to_numeric(x), axis=0)\n",
        "\n",
        "heatmap_data = pd.pivot_table(results_heat, values='MSE', \n",
        "                     index=['C'], \n",
        "                     columns='ε')\n",
        "ax = sns.heatmap(heatmap_data, cmap='binary')"
      ],
      "execution_count": 0,
      "outputs": [
        {
          "output_type": "display_data",
          "data": {
            "image/png": "[encoded data removed]",
            "text/plain": [
              "<Figure size 432x288 with 2 Axes>"
            ]
          },
          "metadata": {
            "tags": []
          }
        }
      ]
    },
    {
      "cell_type": "markdown",
      "metadata": {
        "id": "xXDforISihIs",
        "colab_type": "text"
      },
      "source": [
        "Snipe Grid"
      ]
    },
    {
      "cell_type": "code",
      "metadata": {
        "id": "l6F7MJydNwxd",
        "colab_type": "code",
        "outputId": "f88a0ed2-7fa8-4a92-dc8a-26a39ec3ed75",
        "colab": {
          "base_uri": "https://localhost:8080/",
          "height": 147
        }
      },
      "source": [
        "# snipe grid \n",
        "grid_params = {\n",
        "    'reg__estimator__gamma': ['scale', 'auto'],\n",
        "    'reg__estimator__epsilon': [0.01, 0.025, 0.05, 0.75, 0.1],\n",
        "    'reg__estimator__C': [50, 75, 100, 125, 175, 250],\n",
        "    'reg__estimator__shrinking': [True]\n",
        "    #'reg__estimator__degree': [2, 3, 4]\n",
        "}\n",
        "\n",
        "rbf_snipe_hyp_search = GridSearchCV(estimator=rbf_pipe, param_grid=grid_params, cv=10, scoring=scores, n_jobs=-1, verbose=1, refit=False, return_train_score=True)\n",
        "\n",
        "start = time.time()\n",
        "rbf_snipe_hyp_search.fit(train_X, train_y)\n",
        "end = time.time()\n",
        "print('Grid time: ' + str(end - start))"
      ],
      "execution_count": 0,
      "outputs": [
        {
          "output_type": "stream",
          "text": [
            "Fitting 10 folds for each of 60 candidates, totalling 600 fits\n"
          ],
          "name": "stdout"
        },
        {
          "output_type": "stream",
          "text": [
            "[Parallel(n_jobs=-1)]: Using backend LokyBackend with 2 concurrent workers.\n",
            "[Parallel(n_jobs=-1)]: Done  46 tasks      | elapsed:   46.9s\n",
            "[Parallel(n_jobs=-1)]: Done 196 tasks      | elapsed:  3.3min\n",
            "[Parallel(n_jobs=-1)]: Done 446 tasks      | elapsed: 10.9min\n"
          ],
          "name": "stderr"
        },
        {
          "output_type": "stream",
          "text": [
            "Grid time: 1091.840547800064\n"
          ],
          "name": "stdout"
        },
        {
          "output_type": "stream",
          "text": [
            "[Parallel(n_jobs=-1)]: Done 600 out of 600 | elapsed: 18.2min finished\n"
          ],
          "name": "stderr"
        }
      ]
    },
    {
      "cell_type": "code",
      "metadata": {
        "id": "Bae5EI9STvJC",
        "colab_type": "code",
        "outputId": "ef477f64-c340-4c55-b31a-3087d425847e",
        "colab": {
          "base_uri": "https://localhost:8080/",
          "height": 482
        }
      },
      "source": [
        "report(results=rbf_snipe_hyp_search.cv_results_, n_top=5)"
      ],
      "execution_count": 0,
      "outputs": [
        {
          "output_type": "stream",
          "text": [
            "Model with rank: 1\n",
            "(loss) Mean validation score: 0.9443 (std: 0.1203)\n",
            "(mee) Mean validation score: 1.0076 (std: 0.0520)\n",
            "--- Parameters: {'reg__estimator__C': 100, 'reg__estimator__epsilon': 0.1, 'reg__estimator__gamma': 'auto', 'reg__estimator__shrinking': True}\n",
            "\n",
            "Model with rank: 2\n",
            "(loss) Mean validation score: 0.9460 (std: 0.1110)\n",
            "(mee) Mean validation score: 1.0056 (std: 0.0480)\n",
            "--- Parameters: {'reg__estimator__C': 125, 'reg__estimator__epsilon': 0.1, 'reg__estimator__gamma': 'auto', 'reg__estimator__shrinking': True}\n",
            "\n",
            "Model with rank: 3\n",
            "(loss) Mean validation score: 0.9467 (std: 0.1247)\n",
            "(mee) Mean validation score: 1.0107 (std: 0.0543)\n",
            "--- Parameters: {'reg__estimator__C': 100, 'reg__estimator__epsilon': 0.1, 'reg__estimator__gamma': 'scale', 'reg__estimator__shrinking': True}\n",
            "\n",
            "Model with rank: 4\n",
            "(loss) Mean validation score: 0.9471 (std: 0.1158)\n",
            "(mee) Mean validation score: 1.0077 (std: 0.0496)\n",
            "--- Parameters: {'reg__estimator__C': 125, 'reg__estimator__epsilon': 0.1, 'reg__estimator__gamma': 'scale', 'reg__estimator__shrinking': True}\n",
            "\n",
            "Model with rank: 5\n",
            "(loss) Mean validation score: 0.9474 (std: 0.1351)\n",
            "(mee) Mean validation score: 1.0128 (std: 0.0588)\n",
            "--- Parameters: {'reg__estimator__C': 75, 'reg__estimator__epsilon': 0.1, 'reg__estimator__gamma': 'auto', 'reg__estimator__shrinking': True}\n",
            "\n"
          ],
          "name": "stdout"
        }
      ]
    },
    {
      "cell_type": "code",
      "metadata": {
        "id": "V_EakR2fairs",
        "colab_type": "code",
        "outputId": "786fea7e-bebc-473a-e498-97890e00fd1b",
        "colab": {
          "base_uri": "https://localhost:8080/",
          "height": 279
        }
      },
      "source": [
        "# Heatmap print\n",
        "snipe_heat['C'] = snipe['param_reg__estimator__C']\n",
        "snipe_heat['ε'] = snipe['param_reg__estimator__epsilon']\n",
        "snipe_heat['MSE'] = -1*snipe['mean_test_loss']\n",
        "snipe_heat = snipe_heat.apply(lambda x: pd.to_numeric(x), axis=0)\n",
        "\n",
        "heatmap_data = pd.pivot_table(snipe_heat, values='MSE', \n",
        "                     index=['C'], \n",
        "                     columns='ε')\n",
        "ax = sns.heatmap(heatmap_data, cmap='binary')"
      ],
      "execution_count": 0,
      "outputs": [
        {
          "output_type": "display_data",
          "data": {
            "image/png": "[encoded data removed]",
            "text/plain": [
              "<Figure size 432x288 with 2 Axes>"
            ]
          },
          "metadata": {
            "tags": []
          }
        }
      ]
    },
    {
      "cell_type": "markdown",
      "metadata": {
        "id": "MAAPOBOpQyjt",
        "colab_type": "text"
      },
      "source": [
        "### RBF Best Model Plot"
      ]
    },
    {
      "cell_type": "code",
      "metadata": {
        "id": "2D3C13oRjzoD",
        "colab_type": "code",
        "outputId": "16269796-c678-44b7-a1f2-9969eda675ad",
        "colab": {
          "base_uri": "https://localhost:8080/",
          "height": 36
        }
      },
      "source": [
        "# Model with rank: 1\n",
        "# (loss) Mean validation score: 0.9443 (std: 0.1203)\n",
        "# (mee) Mean validation score: 1.0076 (std: 0.0520)\n",
        "# --- Parameters: {'reg__estimator__C': 100, 'reg__estimator__epsilon': 0.1, 'reg__estimator__gamma': 'auto', 'reg__estimator__shrinking': True}\n",
        "\n",
        "best_rbf = MultiOutputRegressor(SVR(kernel='rbf', C=100, gamma='auto', epsilon=0.1, shrinking=True))\n",
        "\n",
        "start = time.time()\n",
        "best_rbf.fit(train_X, train_y)\n",
        "end = time.time()\n",
        "print('SVM - RBF time: ' + str(end - start))"
      ],
      "execution_count": 0,
      "outputs": [
        {
          "output_type": "stream",
          "text": [
            "SVM - RBF time: 2.6649363040924072\n"
          ],
          "name": "stdout"
        }
      ]
    },
    {
      "cell_type": "code",
      "metadata": {
        "id": "tfT65zRmlMsp",
        "colab_type": "code",
        "outputId": "2d42d939-8d9c-4fcb-9bff-a2d103187bc1",
        "colab": {
          "base_uri": "https://localhost:8080/",
          "height": 54
        }
      },
      "source": [
        "y_pred = best_rbf.predict(test_X)\n",
        "from sklearn.metrics import mean_squared_error\n",
        "mse = mean_squared_error(test_y, y_pred)\n",
        "print('Test LOSS : ' + str(mse))\n",
        "mee = mean_euclidean_error(test_y, y_pred)\n",
        "print('Test MEE : ' + str(mee))"
      ],
      "execution_count": 0,
      "outputs": [
        {
          "output_type": "stream",
          "text": [
            "Test LOSS : 1.1031501356610036\n",
            "Test MEE : 1.0443869707562303\n"
          ],
          "name": "stdout"
        }
      ]
    },
    {
      "cell_type": "code",
      "metadata": {
        "id": "-TZDV89a985j",
        "colab_type": "code",
        "outputId": "09478dd9-897a-4ef5-fa08-c10888015ea5",
        "colab": {
          "base_uri": "https://localhost:8080/",
          "height": 314
        }
      },
      "source": [
        "# RBF V on our test_X\n",
        "y_pred = best_rbf.predict(test_X)\n",
        "y_pred = pd.DataFrame(y_pred, columns=['x', 'y'])\n",
        "\n",
        "y_pred.plot(kind='scatter', x='x', y='y')\n",
        "plt.title('RBF prediction on Test Set')\n",
        "plt.text(26,-14.5, 'MEE: %.4f' % (mee))\n",
        "# y_pred.head()"
      ],
      "execution_count": 0,
      "outputs": [
        {
          "output_type": "execute_result",
          "data": {
            "text/plain": [
              "Text(26, -14.5, 'MEE: 1.0444')"
            ]
          },
          "metadata": {
            "tags": []
          },
          "execution_count": 40
        },
        {
          "output_type": "display_data",
          "data": {
            "image/png": "[encoded data removed]",
            "text/plain": [
              "<Figure size 432x288 with 1 Axes>"
            ]
          },
          "metadata": {
            "tags": []
          }
        }
      ]
    },
    {
      "cell_type": "code",
      "metadata": {
        "id": "laVL7JggoJwX",
        "colab_type": "code",
        "outputId": "0a6e9f2f-ba7e-436d-e2cc-092f0af3fa60",
        "colab": {
          "base_uri": "https://localhost:8080/",
          "height": 166
        }
      },
      "source": [
        "from sklearn.model_selection import cross_validate\n",
        "rbf_cv = cross_validate(best_rbf, train_X, train_y, cv=10, scoring=scores)\n",
        "rbf_cv"
      ],
      "execution_count": 0,
      "outputs": [
        {
          "output_type": "execute_result",
          "data": {
            "text/plain": [
              "{'fit_time': array([2.10373425, 2.29518342, 2.13580012, 2.15350556, 2.18935156,\n",
              "        2.13480067, 1.98864889, 2.09882164, 2.09513736, 2.03369069]),\n",
              " 'score_time': array([0.01803899, 0.01799273, 0.01813364, 0.01750803, 0.01833224,\n",
              "        0.01721191, 0.0177772 , 0.01778507, 0.01790714, 0.01781607]),\n",
              " 'test_loss': array([-0.99025994, -0.85701408, -1.12856083, -1.1173713 , -0.78650975,\n",
              "        -0.90748341, -0.90564049, -0.86866251, -0.80370172, -1.07779983]),\n",
              " 'test_mee': array([1.03900466, 0.94470452, 1.09691357, 1.07612034, 0.93854912,\n",
              "        1.03218762, 0.97284393, 1.00018318, 0.95641373, 1.0189927 ])}"
            ]
          },
          "metadata": {
            "tags": []
          },
          "execution_count": 29
        }
      ]
    },
    {
      "cell_type": "code",
      "metadata": {
        "id": "2DAZ5SH6pHpT",
        "colab_type": "code",
        "outputId": "56b13b9f-e1fd-4431-8fdb-60bdeb27ec04",
        "colab": {
          "base_uri": "https://localhost:8080/",
          "height": 54
        }
      },
      "source": [
        "rbf_val_loss = -1*rbf_cv['test_loss'].mean()\n",
        "rbf_val_mee = rbf_cv['test_mee'].mean()\n",
        "print('RBF Loss: ' + str(rbf_val_loss))\n",
        "print('RBF MEE: ' + str(rbf_val_mee))"
      ],
      "execution_count": 0,
      "outputs": [
        {
          "output_type": "stream",
          "text": [
            "RBF Loss: 0.9443003880472478\n",
            "RBF MEE: 1.0075913356167916\n"
          ],
          "name": "stdout"
        }
      ]
    },
    {
      "cell_type": "code",
      "metadata": {
        "id": "prM7QPxLQ2AL",
        "colab_type": "code",
        "colab": {}
      },
      "source": [
        "from sklearn.model_selection import learning_curve\n",
        "x_size = train_X.shape[0]/10 * 9\n",
        "print(x_size)\n",
        "train_sizes = np.arange(1, 1271, 10)\n",
        "train_sizes, train_scores, validation_scores = learning_curve(estimator=best_RBF, X=train_X, y=train_y, train_sizes=train_sizes, cv=10, scoring='neg_mean_squared_error', verbose=1)"
      ],
      "execution_count": 0,
      "outputs": []
    },
    {
      "cell_type": "code",
      "metadata": {
        "id": "AmInVjLbQ-Zt",
        "colab_type": "code",
        "colab": {}
      },
      "source": [
        "train_scores_mean = -train_scores.mean(axis = 1)\n",
        "validation_scores_mean = -validation_scores.mean(axis = 1)\n",
        "# print('Mean training scores\\n\\n', pd.Series(train_scores_mean, index = train_sizes))\n",
        "# print('\\n', '-' * 20) # separator\n",
        "# print('\\nMean validation scores\\n\\n',pd.Series(validation_scores_mean, index = train_sizes))"
      ],
      "execution_count": 0,
      "outputs": []
    },
    {
      "cell_type": "code",
      "metadata": {
        "id": "0vAcMXo-RDAP",
        "colab_type": "code",
        "colab": {}
      },
      "source": [
        "print('Train: %.4f, Val: %.4f' % (train_scores_mean[-1], validation_scores_mean[-1]))\n",
        "# plot loss during training\n",
        "plt.figure(figsize=(10,6))#da rivedere\n",
        "plt.plot(train_sizes, train_scores_mean, label = 'Training')\n",
        "plt.plot(train_sizes, validation_scores_mean, label = 'Validation', ls='--')\n",
        "plt.ylabel('MSE')\n",
        "plt.xlabel('Training set size')\n",
        "plt.title('RBF Learning curve')\n",
        "plt.legend()\n",
        "plt.grid()\n",
        "# plt.ylim(0,7)"
      ],
      "execution_count": 0,
      "outputs": []
    },
    {
      "cell_type": "markdown",
      "metadata": {
        "id": "lsZ9ebBTlU7i",
        "colab_type": "text"
      },
      "source": [
        "## Poly Kernel\n"
      ]
    },
    {
      "cell_type": "code",
      "metadata": {
        "id": "MZqWXRAj6gWy",
        "colab_type": "code",
        "outputId": "cb09a9b5-3229-4821-9fe2-d5cc269f2e3b",
        "colab": {
          "base_uri": "https://localhost:8080/",
          "height": 91
        }
      },
      "source": [
        "# polynomial version\n",
        "grid_params = {\n",
        "    'reg__estimator__gamma': ['scale', 'auto'],\n",
        "    'reg__estimator__coef0': [0, 0.5, 1, 2],\n",
        "    'reg__estimator__epsilon': [0.001, 0.01, 0.1, 1, 10, 100, 1000],\n",
        "    'reg__estimator__C': [0.1, 1, 10, 100],#[0.001, 0.01, 0.1, 1, 10, 100],#, 1000],\n",
        "    'reg__estimator__shrinking': [True],\n",
        "    'reg__estimator__degree': [2, 3, 4, 5, 6]\n",
        "}\n",
        "\n",
        "snipe_grid_params = {\n",
        "    'reg__estimator__gamma': ['auto'],\n",
        "    'reg__estimator__coef0': [0.4, 0.5, 0.6, 0.7],\n",
        "    'reg__estimator__epsilon': [0.1],\n",
        "    'reg__estimator__C': [5, 6, 7, 8, 9, 10],\n",
        "    'reg__estimator__shrinking': [True],\n",
        "    'reg__estimator__degree': [2, 3, 4]\n",
        "}\n",
        "\n",
        "best_grid_params = {\n",
        "    'reg__estimator__gamma': ['auto'],\n",
        "    'reg__estimator__coef0': [0.9],\n",
        "    'reg__estimator__epsilon': [0.1],\n",
        "    'reg__estimator__C': [1],\n",
        "    'reg__estimator__shrinking': [True],\n",
        "    'reg__estimator__degree': [5]    \n",
        "}\n",
        "\n",
        "poly_hyp_search = GridSearchCV(estimator=poly_pipe, param_grid=best_grid_params, cv=10, \n",
        "                               scoring=scores, n_jobs=2, verbose=1, refit=False, return_train_score=True)\n",
        "\n",
        "start = time.time()\n",
        "poly_hyp_search.fit(train_X, train_y)\n",
        "end = time.time()\n",
        "print('Grid time: ' + str(end - start))"
      ],
      "execution_count": 0,
      "outputs": [
        {
          "output_type": "stream",
          "text": [
            "Fitting 10 folds for each of 1 candidates, totalling 10 fits\n"
          ],
          "name": "stdout"
        },
        {
          "output_type": "stream",
          "text": [
            "[Parallel(n_jobs=2)]: Using backend LokyBackend with 2 concurrent workers.\n"
          ],
          "name": "stderr"
        },
        {
          "output_type": "stream",
          "text": [
            "Grid time: 10.101204872131348\n"
          ],
          "name": "stdout"
        },
        {
          "output_type": "stream",
          "text": [
            "[Parallel(n_jobs=2)]: Done  10 out of  10 | elapsed:   10.1s finished\n"
          ],
          "name": "stderr"
        }
      ]
    },
    {
      "cell_type": "markdown",
      "metadata": {
        "id": "czqeDqtL1oX6",
        "colab_type": "text"
      },
      "source": [
        "### POLY Best Model\n",
        "\n"
      ]
    },
    {
      "cell_type": "code",
      "metadata": {
        "id": "X1Yvq-OzzODa",
        "colab_type": "code",
        "outputId": "5de6af2c-1b64-4f6a-eedf-a2ba5ee57bf1",
        "colab": {
          "base_uri": "https://localhost:8080/",
          "height": 130
        }
      },
      "source": [
        "report(poly_hyp_search.cv_results_, n_top=5)"
      ],
      "execution_count": 0,
      "outputs": [
        {
          "output_type": "stream",
          "text": [
            "Model with rank: 1\n",
            "(loss) Mean validation score: 1.0348 (std: 0.1594)\n",
            "(mee) Mean validation score: 1.0711 (std: 0.0734)\n",
            "--- Parameters: {'reg__estimator__C': 1, 'reg__estimator__coef0': 0.9, 'reg__estimator__degree': 5, 'reg__estimator__epsilon': 0.1, 'reg__estimator__gamma': 'auto', 'reg__estimator__shrinking': True}\n",
            "\n"
          ],
          "name": "stdout"
        }
      ]
    },
    {
      "cell_type": "code",
      "metadata": {
        "id": "ATuyaodJ2ySv",
        "colab_type": "code",
        "outputId": "ecb2f37f-0306-47b8-bf2b-854133776593",
        "colab": {
          "base_uri": "https://localhost:8080/",
          "height": 73
        }
      },
      "source": [
        "best_POLY = MultiOutputRegressor(SVR(kernel='poly', C=1, gamma='auto', epsilon=0.1, coef0=0.9, degree=5, shrinking=True))\n",
        "\n",
        "start = time.time()\n",
        "best_POLY.fit(train_X, train_y)\n",
        "end = time.time()\n",
        "print('SVM - POLY time: ' + str(end - start))\n",
        "\n",
        "y_pred = best_POLY.predict(test_X)\n",
        "from sklearn.metrics import mean_squared_error\n",
        "mse = mean_squared_error(test_y, y_pred)\n",
        "print('Test LOSS : ' + str(mse))\n",
        "mee = mean_euclidean_error(test_y, y_pred)\n",
        "print('Test MEE : ' + str(mee))"
      ],
      "execution_count": 0,
      "outputs": [
        {
          "output_type": "stream",
          "text": [
            "SVM - POLY time: 1.4066734313964844\n",
            "Test LOSS : 1.1727993605395346\n",
            "Test MEE : 1.0866432276600715\n"
          ],
          "name": "stdout"
        }
      ]
    },
    {
      "cell_type": "code",
      "metadata": {
        "id": "x4dPWUCD9AjJ",
        "colab_type": "code",
        "outputId": "0673ba0e-eafb-433d-ed09-cfc23aee37ea",
        "colab": {
          "base_uri": "https://localhost:8080/",
          "height": 314
        }
      },
      "source": [
        "# POLY V on our test_X\n",
        "y_pred = best_POLY.predict(test_X)\n",
        "y_pred = pd.DataFrame(y_pred, columns=['x', 'y'])\n",
        "\n",
        "y_pred.plot(kind='scatter', x='x', y='y')\n",
        "plt.title('POLY prediction on Test Set')\n",
        "plt.text(26,-14.5, 'MEE: %.4f' % (mee))\n",
        "# y_pred.head()"
      ],
      "execution_count": 0,
      "outputs": [
        {
          "output_type": "execute_result",
          "data": {
            "text/plain": [
              "Text(26, -14.5, 'MEE: 1.0866')"
            ]
          },
          "metadata": {
            "tags": []
          },
          "execution_count": 44
        },
        {
          "output_type": "display_data",
          "data": {
            "image/png": "[encoded data removed]",
            "text/plain": [
              "<Figure size 432x288 with 1 Axes>"
            ]
          },
          "metadata": {
            "tags": []
          }
        }
      ]
    },
    {
      "cell_type": "code",
      "metadata": {
        "id": "DAz23rrR2RAm",
        "colab_type": "code",
        "outputId": "c83fe4f9-78e4-4966-90b3-e46ca34d5cfc",
        "colab": {
          "base_uri": "https://localhost:8080/",
          "height": 259
        }
      },
      "source": [
        "from sklearn.model_selection import learning_curve\n",
        "x_size = train_X.shape[0]/10 * 9\n",
        "print(x_size)\n",
        "train_sizes = np.arange(1, 1271, 10)\n",
        "train_sizes, train_scores, validation_scores = learning_curve(estimator=best_POLY, X=train_X, y=train_y, train_sizes=train_sizes, cv=10, scoring='neg_mean_squared_error', verbose=1)"
      ],
      "execution_count": 0,
      "outputs": [
        {
          "output_type": "stream",
          "text": [
            "1270.8\n",
            "[learning_curve] Training set sizes: [   1   11   21   31   41   51   61   71   81   91  101  111  121  131\n",
            "  141  151  161  171  181  191  201  211  221  231  241  251  261  271\n",
            "  281  291  301  311  321  331  341  351  361  371  381  391  401  411\n",
            "  421  431  441  451  461  471  481  491  501  511  521  531  541  551\n",
            "  561  571  581  591  601  611  621  631  641  651  661  671  681  691\n",
            "  701  711  721  731  741  751  761  771  781  791  801  811  821  831\n",
            "  841  851  861  871  881  891  901  911  921  931  941  951  961  971\n",
            "  981  991 1001 1011 1021 1031 1041 1051 1061 1071 1081 1091 1101 1111\n",
            " 1121 1131 1141 1151 1161 1171 1181 1191 1201 1211 1221 1231 1241 1251\n",
            " 1261]\n"
          ],
          "name": "stdout"
        },
        {
          "output_type": "stream",
          "text": [
            "[Parallel(n_jobs=1)]: Using backend SequentialBackend with 1 concurrent workers.\n",
            "[Parallel(n_jobs=1)]: Done 1270 out of 1270 | elapsed:  9.5min finished\n"
          ],
          "name": "stderr"
        }
      ]
    },
    {
      "cell_type": "code",
      "metadata": {
        "id": "ad3Qwvc37GE7",
        "colab_type": "code",
        "colab": {}
      },
      "source": [
        "train_scores_mean = -train_scores.mean(axis = 1)\n",
        "validation_scores_mean = -validation_scores.mean(axis = 1)"
      ],
      "execution_count": 0,
      "outputs": []
    },
    {
      "cell_type": "code",
      "metadata": {
        "id": "HYqoFFjX7Mk3",
        "colab_type": "code",
        "outputId": "a0c0b69d-56f1-4291-d073-ea90ced0effd",
        "colab": {
          "base_uri": "https://localhost:8080/",
          "height": 441
        }
      },
      "source": [
        "print('Train: %.4f, Val: %.4f' % (train_scores_mean[-1], validation_scores_mean[-1]))\n",
        "# plot loss during training\n",
        "plt.figure(figsize=(10,6))#da rivedere\n",
        "plt.plot(train_sizes, train_scores_mean, label = 'Training')\n",
        "plt.plot(train_sizes, validation_scores_mean, label = 'Validation', ls='--')\n",
        "plt.ylabel('MSE')\n",
        "plt.xlabel('Training set size')\n",
        "plt.title('POLY Learning curve')\n",
        "plt.legend()\n",
        "plt.grid()\n",
        "plt.ylim(0,7)"
      ],
      "execution_count": 0,
      "outputs": [
        {
          "output_type": "stream",
          "text": [
            "Train: 0.7023, Val: 1.0339\n"
          ],
          "name": "stdout"
        },
        {
          "output_type": "execute_result",
          "data": {
            "text/plain": [
              "(0, 7)"
            ]
          },
          "metadata": {
            "tags": []
          },
          "execution_count": 34
        },
        {
          "output_type": "display_data",
          "data": {
            "image/png": "[encoded data removed]",
            "text/plain": [
              "<Figure size 720x432 with 1 Axes>"
            ]
          },
          "metadata": {
            "tags": []
          }
        }
      ]
    },
    {
      "cell_type": "markdown",
      "metadata": {
        "id": "NT1-WvZw6b4A",
        "colab_type": "text"
      },
      "source": [
        "### Older Grid"
      ]
    },
    {
      "cell_type": "code",
      "metadata": {
        "id": "YKqwAiNXlfCS",
        "colab_type": "code",
        "outputId": "19d29682-f947-454f-9b04-08c26dd89083",
        "colab": {
          "base_uri": "https://localhost:8080/",
          "height": 849
        }
      },
      "source": [
        "grid_params = {\n",
        "    'gamma': ['scale', 'auto'],\n",
        "    'epsilon': [0.1, 0.15, 0.2, 0.25, 0.3],\n",
        "    'C': [1, 10, 25],\n",
        "    'shrinking': [True],\n",
        "    'degree': [2, 3, 4],\n",
        "    'coef0': [0, 0.1, 0.2]\n",
        "}\n",
        "\n",
        "start = time.time()\n",
        "\n",
        "poly_estimator = SVR(kernel='poly', verbose=1)\n",
        "poly_model = MultiOutputRegressor(estimator=GridSearchCV(estimator=poly_estimator, param_grid=grid_params, cv=10, scoring='neg_mean_squared_error', n_jobs=4, verbose=1))\n",
        "\n",
        "\n",
        "end = time.time()\n",
        "print('Grid time: ' + str(end - start))"
      ],
      "execution_count": 0,
      "outputs": [
        {
          "output_type": "stream",
          "text": [
            "Fitting 10 folds for each of 270 candidates, totalling 2700 fits\n"
          ],
          "name": "stdout"
        },
        {
          "output_type": "stream",
          "text": [
            "[Parallel(n_jobs=4)]: Using backend LokyBackend with 4 concurrent workers.\n",
            "[Parallel(n_jobs=4)]: Done  42 tasks      | elapsed:    5.2s\n",
            "[Parallel(n_jobs=4)]: Done 192 tasks      | elapsed:   17.9s\n",
            "[Parallel(n_jobs=4)]: Done 442 tasks      | elapsed:   39.6s\n",
            "[Parallel(n_jobs=4)]: Done 792 tasks      | elapsed:  1.2min\n",
            "[Parallel(n_jobs=4)]: Done 1242 tasks      | elapsed:  2.2min\n",
            "[Parallel(n_jobs=4)]: Done 1792 tasks      | elapsed:  4.5min\n",
            "[Parallel(n_jobs=4)]: Done 2442 tasks      | elapsed:  8.5min\n",
            "[Parallel(n_jobs=4)]: Done 2700 out of 2700 | elapsed: 11.3min finished\n"
          ],
          "name": "stderr"
        },
        {
          "output_type": "stream",
          "text": [
            "[LibSVM]Fitting 10 folds for each of 270 candidates, totalling 2700 fits\n"
          ],
          "name": "stdout"
        },
        {
          "output_type": "stream",
          "text": [
            "[Parallel(n_jobs=4)]: Using backend LokyBackend with 4 concurrent workers.\n",
            "[Parallel(n_jobs=4)]: Done  42 tasks      | elapsed:    3.8s\n",
            "[Parallel(n_jobs=4)]: Done 192 tasks      | elapsed:   16.7s\n",
            "[Parallel(n_jobs=4)]: Done 442 tasks      | elapsed:   38.9s\n",
            "[Parallel(n_jobs=4)]: Done 792 tasks      | elapsed:  1.2min\n",
            "[Parallel(n_jobs=4)]: Done 1242 tasks      | elapsed:  2.4min\n",
            "[Parallel(n_jobs=4)]: Done 1792 tasks      | elapsed:  4.9min\n",
            "[Parallel(n_jobs=4)]: Done 2442 tasks      | elapsed:  9.6min\n",
            "[Parallel(n_jobs=4)]: Done 2700 out of 2700 | elapsed: 12.6min finished\n"
          ],
          "name": "stderr"
        },
        {
          "output_type": "stream",
          "text": [
            "[LibSVM]"
          ],
          "name": "stdout"
        },
        {
          "output_type": "execute_result",
          "data": {
            "text/plain": [
              "MultiOutputRegressor(estimator=GridSearchCV(cv=10, error_score=nan,\n",
              "                                            estimator=SVR(C=1.0, cache_size=200,\n",
              "                                                          coef0=0.0, degree=3,\n",
              "                                                          epsilon=0.1,\n",
              "                                                          gamma='scale',\n",
              "                                                          kernel='poly',\n",
              "                                                          max_iter=-1,\n",
              "                                                          shrinking=True,\n",
              "                                                          tol=0.001,\n",
              "                                                          verbose=1),\n",
              "                                            iid='deprecated', n_jobs=4,\n",
              "                                            param_grid={'C': [1, 10, 25],\n",
              "                                                        'coef0': [0, 0.1, 0.2],\n",
              "                                                        'degree': [2, 3, 4],\n",
              "                                                        'epsilon': [0.1, 0.15,\n",
              "                                                                    0.2, 0.25,\n",
              "                                                                    0.3],\n",
              "                                                        'gamma': ['scale',\n",
              "                                                                  'auto'],\n",
              "                                                        'shrinking': [True]},\n",
              "                                            pre_dispatch='2*n_jobs', refit=True,\n",
              "                                            return_train_score=False,\n",
              "                                            scoring='neg_mean_squared_error',\n",
              "                                            verbose=1),\n",
              "                     n_jobs=None)"
            ]
          },
          "metadata": {
            "tags": []
          },
          "execution_count": 9
        }
      ]
    },
    {
      "cell_type": "code",
      "metadata": {
        "id": "Ttv92JfSoydb",
        "colab_type": "code",
        "outputId": "90178781-b1d5-468f-a1b4-fda89a7aecae",
        "colab": {
          "base_uri": "https://localhost:8080/",
          "height": 475
        }
      },
      "source": [
        "poly_model.fit(train_X, train_y)\n",
        "y_pred = poly_model.predict(test_X)\n",
        "\n",
        "from sklearn.metrics import mean_squared_error\n",
        "sse = mean_squared_error(test_y, y_pred)\n",
        "print('SSE : ' + str(sse))"
      ],
      "execution_count": 0,
      "outputs": [
        {
          "output_type": "stream",
          "text": [
            "Fitting 10 folds for each of 270 candidates, totalling 2700 fits\n"
          ],
          "name": "stdout"
        },
        {
          "output_type": "stream",
          "text": [
            "[Parallel(n_jobs=4)]: Using backend LokyBackend with 4 concurrent workers.\n",
            "[Parallel(n_jobs=4)]: Done  42 tasks      | elapsed:    3.6s\n",
            "[Parallel(n_jobs=4)]: Done 192 tasks      | elapsed:   16.2s\n"
          ],
          "name": "stderr"
        },
        {
          "output_type": "error",
          "ename": "KeyboardInterrupt",
          "evalue": "ignored",
          "traceback": [
            "\u001b[0;31m---------------------------------------------------------------------------\u001b[0m",
            "\u001b[0;31mKeyboardInterrupt\u001b[0m                         Traceback (most recent call last)",
            "\u001b[0;32m<ipython-input-10-8cd157d82b6f>\u001b[0m in \u001b[0;36m<module>\u001b[0;34m()\u001b[0m\n\u001b[0;32m----> 1\u001b[0;31m \u001b[0mmodel\u001b[0m\u001b[0;34m.\u001b[0m\u001b[0mfit\u001b[0m\u001b[0;34m(\u001b[0m\u001b[0mtrain_X\u001b[0m\u001b[0;34m,\u001b[0m \u001b[0mtrain_y\u001b[0m\u001b[0;34m)\u001b[0m\u001b[0;34m\u001b[0m\u001b[0;34m\u001b[0m\u001b[0m\n\u001b[0m\u001b[1;32m      2\u001b[0m \u001b[0my_pred\u001b[0m \u001b[0;34m=\u001b[0m \u001b[0mmodel\u001b[0m\u001b[0;34m.\u001b[0m\u001b[0mpredict\u001b[0m\u001b[0;34m(\u001b[0m\u001b[0mtest_X\u001b[0m\u001b[0;34m)\u001b[0m\u001b[0;34m\u001b[0m\u001b[0;34m\u001b[0m\u001b[0m\n\u001b[1;32m      3\u001b[0m \u001b[0;34m\u001b[0m\u001b[0m\n\u001b[1;32m      4\u001b[0m \u001b[0;32mfrom\u001b[0m \u001b[0msklearn\u001b[0m\u001b[0;34m.\u001b[0m\u001b[0mmetrics\u001b[0m \u001b[0;32mimport\u001b[0m \u001b[0mmean_squared_error\u001b[0m\u001b[0;34m\u001b[0m\u001b[0;34m\u001b[0m\u001b[0m\n\u001b[1;32m      5\u001b[0m \u001b[0msse\u001b[0m \u001b[0;34m=\u001b[0m \u001b[0mmean_squared_error\u001b[0m\u001b[0;34m(\u001b[0m\u001b[0mtest_y\u001b[0m\u001b[0;34m,\u001b[0m \u001b[0my_pred\u001b[0m\u001b[0;34m)\u001b[0m\u001b[0;34m\u001b[0m\u001b[0;34m\u001b[0m\u001b[0m\n",
            "\u001b[0;32m/usr/local/lib/python3.6/dist-packages/sklearn/multioutput.py\u001b[0m in \u001b[0;36mfit\u001b[0;34m(self, X, y, sample_weight)\u001b[0m\n\u001b[1;32m    168\u001b[0m             delayed(_fit_estimator)(\n\u001b[1;32m    169\u001b[0m                 self.estimator, X, y[:, i], sample_weight)\n\u001b[0;32m--> 170\u001b[0;31m             for i in range(y.shape[1]))\n\u001b[0m\u001b[1;32m    171\u001b[0m         \u001b[0;32mreturn\u001b[0m \u001b[0mself\u001b[0m\u001b[0;34m\u001b[0m\u001b[0;34m\u001b[0m\u001b[0m\n\u001b[1;32m    172\u001b[0m \u001b[0;34m\u001b[0m\u001b[0m\n",
            "\u001b[0;32m/usr/local/lib/python3.6/dist-packages/joblib/parallel.py\u001b[0m in \u001b[0;36m__call__\u001b[0;34m(self, iterable)\u001b[0m\n\u001b[1;32m   1002\u001b[0m             \u001b[0;31m# remaining jobs.\u001b[0m\u001b[0;34m\u001b[0m\u001b[0;34m\u001b[0m\u001b[0;34m\u001b[0m\u001b[0m\n\u001b[1;32m   1003\u001b[0m             \u001b[0mself\u001b[0m\u001b[0;34m.\u001b[0m\u001b[0m_iterating\u001b[0m \u001b[0;34m=\u001b[0m \u001b[0;32mFalse\u001b[0m\u001b[0;34m\u001b[0m\u001b[0;34m\u001b[0m\u001b[0m\n\u001b[0;32m-> 1004\u001b[0;31m             \u001b[0;32mif\u001b[0m \u001b[0mself\u001b[0m\u001b[0;34m.\u001b[0m\u001b[0mdispatch_one_batch\u001b[0m\u001b[0;34m(\u001b[0m\u001b[0miterator\u001b[0m\u001b[0;34m)\u001b[0m\u001b[0;34m:\u001b[0m\u001b[0;34m\u001b[0m\u001b[0;34m\u001b[0m\u001b[0m\n\u001b[0m\u001b[1;32m   1005\u001b[0m                 \u001b[0mself\u001b[0m\u001b[0;34m.\u001b[0m\u001b[0m_iterating\u001b[0m \u001b[0;34m=\u001b[0m \u001b[0mself\u001b[0m\u001b[0;34m.\u001b[0m\u001b[0m_original_iterator\u001b[0m \u001b[0;32mis\u001b[0m \u001b[0;32mnot\u001b[0m \u001b[0;32mNone\u001b[0m\u001b[0;34m\u001b[0m\u001b[0;34m\u001b[0m\u001b[0m\n\u001b[1;32m   1006\u001b[0m \u001b[0;34m\u001b[0m\u001b[0m\n",
            "\u001b[0;32m/usr/local/lib/python3.6/dist-packages/joblib/parallel.py\u001b[0m in \u001b[0;36mdispatch_one_batch\u001b[0;34m(self, iterator)\u001b[0m\n\u001b[1;32m    833\u001b[0m                 \u001b[0;32mreturn\u001b[0m \u001b[0;32mFalse\u001b[0m\u001b[0;34m\u001b[0m\u001b[0;34m\u001b[0m\u001b[0m\n\u001b[1;32m    834\u001b[0m             \u001b[0;32melse\u001b[0m\u001b[0;34m:\u001b[0m\u001b[0;34m\u001b[0m\u001b[0;34m\u001b[0m\u001b[0m\n\u001b[0;32m--> 835\u001b[0;31m                 \u001b[0mself\u001b[0m\u001b[0;34m.\u001b[0m\u001b[0m_dispatch\u001b[0m\u001b[0;34m(\u001b[0m\u001b[0mtasks\u001b[0m\u001b[0;34m)\u001b[0m\u001b[0;34m\u001b[0m\u001b[0;34m\u001b[0m\u001b[0m\n\u001b[0m\u001b[1;32m    836\u001b[0m                 \u001b[0;32mreturn\u001b[0m \u001b[0;32mTrue\u001b[0m\u001b[0;34m\u001b[0m\u001b[0;34m\u001b[0m\u001b[0m\n\u001b[1;32m    837\u001b[0m \u001b[0;34m\u001b[0m\u001b[0m\n",
            "\u001b[0;32m/usr/local/lib/python3.6/dist-packages/joblib/parallel.py\u001b[0m in \u001b[0;36m_dispatch\u001b[0;34m(self, batch)\u001b[0m\n\u001b[1;32m    752\u001b[0m         \u001b[0;32mwith\u001b[0m \u001b[0mself\u001b[0m\u001b[0;34m.\u001b[0m\u001b[0m_lock\u001b[0m\u001b[0;34m:\u001b[0m\u001b[0;34m\u001b[0m\u001b[0;34m\u001b[0m\u001b[0m\n\u001b[1;32m    753\u001b[0m             \u001b[0mjob_idx\u001b[0m \u001b[0;34m=\u001b[0m \u001b[0mlen\u001b[0m\u001b[0;34m(\u001b[0m\u001b[0mself\u001b[0m\u001b[0;34m.\u001b[0m\u001b[0m_jobs\u001b[0m\u001b[0;34m)\u001b[0m\u001b[0;34m\u001b[0m\u001b[0;34m\u001b[0m\u001b[0m\n\u001b[0;32m--> 754\u001b[0;31m             \u001b[0mjob\u001b[0m \u001b[0;34m=\u001b[0m \u001b[0mself\u001b[0m\u001b[0;34m.\u001b[0m\u001b[0m_backend\u001b[0m\u001b[0;34m.\u001b[0m\u001b[0mapply_async\u001b[0m\u001b[0;34m(\u001b[0m\u001b[0mbatch\u001b[0m\u001b[0;34m,\u001b[0m \u001b[0mcallback\u001b[0m\u001b[0;34m=\u001b[0m\u001b[0mcb\u001b[0m\u001b[0;34m)\u001b[0m\u001b[0;34m\u001b[0m\u001b[0;34m\u001b[0m\u001b[0m\n\u001b[0m\u001b[1;32m    755\u001b[0m             \u001b[0;31m# A job can complete so quickly than its callback is\u001b[0m\u001b[0;34m\u001b[0m\u001b[0;34m\u001b[0m\u001b[0;34m\u001b[0m\u001b[0m\n\u001b[1;32m    756\u001b[0m             \u001b[0;31m# called before we get here, causing self._jobs to\u001b[0m\u001b[0;34m\u001b[0m\u001b[0;34m\u001b[0m\u001b[0;34m\u001b[0m\u001b[0m\n",
            "\u001b[0;32m/usr/local/lib/python3.6/dist-packages/joblib/_parallel_backends.py\u001b[0m in \u001b[0;36mapply_async\u001b[0;34m(self, func, callback)\u001b[0m\n\u001b[1;32m    207\u001b[0m     \u001b[0;32mdef\u001b[0m \u001b[0mapply_async\u001b[0m\u001b[0;34m(\u001b[0m\u001b[0mself\u001b[0m\u001b[0;34m,\u001b[0m \u001b[0mfunc\u001b[0m\u001b[0;34m,\u001b[0m \u001b[0mcallback\u001b[0m\u001b[0;34m=\u001b[0m\u001b[0;32mNone\u001b[0m\u001b[0;34m)\u001b[0m\u001b[0;34m:\u001b[0m\u001b[0;34m\u001b[0m\u001b[0;34m\u001b[0m\u001b[0m\n\u001b[1;32m    208\u001b[0m         \u001b[0;34m\"\"\"Schedule a func to be run\"\"\"\u001b[0m\u001b[0;34m\u001b[0m\u001b[0;34m\u001b[0m\u001b[0m\n\u001b[0;32m--> 209\u001b[0;31m         \u001b[0mresult\u001b[0m \u001b[0;34m=\u001b[0m \u001b[0mImmediateResult\u001b[0m\u001b[0;34m(\u001b[0m\u001b[0mfunc\u001b[0m\u001b[0;34m)\u001b[0m\u001b[0;34m\u001b[0m\u001b[0;34m\u001b[0m\u001b[0m\n\u001b[0m\u001b[1;32m    210\u001b[0m         \u001b[0;32mif\u001b[0m \u001b[0mcallback\u001b[0m\u001b[0;34m:\u001b[0m\u001b[0;34m\u001b[0m\u001b[0;34m\u001b[0m\u001b[0m\n\u001b[1;32m    211\u001b[0m             \u001b[0mcallback\u001b[0m\u001b[0;34m(\u001b[0m\u001b[0mresult\u001b[0m\u001b[0;34m)\u001b[0m\u001b[0;34m\u001b[0m\u001b[0;34m\u001b[0m\u001b[0m\n",
            "\u001b[0;32m/usr/local/lib/python3.6/dist-packages/joblib/_parallel_backends.py\u001b[0m in \u001b[0;36m__init__\u001b[0;34m(self, batch)\u001b[0m\n\u001b[1;32m    588\u001b[0m         \u001b[0;31m# Don't delay the application, to avoid keeping the input\u001b[0m\u001b[0;34m\u001b[0m\u001b[0;34m\u001b[0m\u001b[0;34m\u001b[0m\u001b[0m\n\u001b[1;32m    589\u001b[0m         \u001b[0;31m# arguments in memory\u001b[0m\u001b[0;34m\u001b[0m\u001b[0;34m\u001b[0m\u001b[0;34m\u001b[0m\u001b[0m\n\u001b[0;32m--> 590\u001b[0;31m         \u001b[0mself\u001b[0m\u001b[0;34m.\u001b[0m\u001b[0mresults\u001b[0m \u001b[0;34m=\u001b[0m \u001b[0mbatch\u001b[0m\u001b[0;34m(\u001b[0m\u001b[0;34m)\u001b[0m\u001b[0;34m\u001b[0m\u001b[0;34m\u001b[0m\u001b[0m\n\u001b[0m\u001b[1;32m    591\u001b[0m \u001b[0;34m\u001b[0m\u001b[0m\n\u001b[1;32m    592\u001b[0m     \u001b[0;32mdef\u001b[0m \u001b[0mget\u001b[0m\u001b[0;34m(\u001b[0m\u001b[0mself\u001b[0m\u001b[0;34m)\u001b[0m\u001b[0;34m:\u001b[0m\u001b[0;34m\u001b[0m\u001b[0;34m\u001b[0m\u001b[0m\n",
            "\u001b[0;32m/usr/local/lib/python3.6/dist-packages/joblib/parallel.py\u001b[0m in \u001b[0;36m__call__\u001b[0;34m(self)\u001b[0m\n\u001b[1;32m    254\u001b[0m         \u001b[0;32mwith\u001b[0m \u001b[0mparallel_backend\u001b[0m\u001b[0;34m(\u001b[0m\u001b[0mself\u001b[0m\u001b[0;34m.\u001b[0m\u001b[0m_backend\u001b[0m\u001b[0;34m,\u001b[0m \u001b[0mn_jobs\u001b[0m\u001b[0;34m=\u001b[0m\u001b[0mself\u001b[0m\u001b[0;34m.\u001b[0m\u001b[0m_n_jobs\u001b[0m\u001b[0;34m)\u001b[0m\u001b[0;34m:\u001b[0m\u001b[0;34m\u001b[0m\u001b[0;34m\u001b[0m\u001b[0m\n\u001b[1;32m    255\u001b[0m             return [func(*args, **kwargs)\n\u001b[0;32m--> 256\u001b[0;31m                     for func, args, kwargs in self.items]\n\u001b[0m\u001b[1;32m    257\u001b[0m \u001b[0;34m\u001b[0m\u001b[0m\n\u001b[1;32m    258\u001b[0m     \u001b[0;32mdef\u001b[0m \u001b[0m__len__\u001b[0m\u001b[0;34m(\u001b[0m\u001b[0mself\u001b[0m\u001b[0;34m)\u001b[0m\u001b[0;34m:\u001b[0m\u001b[0;34m\u001b[0m\u001b[0;34m\u001b[0m\u001b[0m\n",
            "\u001b[0;32m/usr/local/lib/python3.6/dist-packages/joblib/parallel.py\u001b[0m in \u001b[0;36m<listcomp>\u001b[0;34m(.0)\u001b[0m\n\u001b[1;32m    254\u001b[0m         \u001b[0;32mwith\u001b[0m \u001b[0mparallel_backend\u001b[0m\u001b[0;34m(\u001b[0m\u001b[0mself\u001b[0m\u001b[0;34m.\u001b[0m\u001b[0m_backend\u001b[0m\u001b[0;34m,\u001b[0m \u001b[0mn_jobs\u001b[0m\u001b[0;34m=\u001b[0m\u001b[0mself\u001b[0m\u001b[0;34m.\u001b[0m\u001b[0m_n_jobs\u001b[0m\u001b[0;34m)\u001b[0m\u001b[0;34m:\u001b[0m\u001b[0;34m\u001b[0m\u001b[0;34m\u001b[0m\u001b[0m\n\u001b[1;32m    255\u001b[0m             return [func(*args, **kwargs)\n\u001b[0;32m--> 256\u001b[0;31m                     for func, args, kwargs in self.items]\n\u001b[0m\u001b[1;32m    257\u001b[0m \u001b[0;34m\u001b[0m\u001b[0m\n\u001b[1;32m    258\u001b[0m     \u001b[0;32mdef\u001b[0m \u001b[0m__len__\u001b[0m\u001b[0;34m(\u001b[0m\u001b[0mself\u001b[0m\u001b[0;34m)\u001b[0m\u001b[0;34m:\u001b[0m\u001b[0;34m\u001b[0m\u001b[0;34m\u001b[0m\u001b[0m\n",
            "\u001b[0;32m/usr/local/lib/python3.6/dist-packages/sklearn/multioutput.py\u001b[0m in \u001b[0;36m_fit_estimator\u001b[0;34m(estimator, X, y, sample_weight)\u001b[0m\n\u001b[1;32m     38\u001b[0m         \u001b[0mestimator\u001b[0m\u001b[0;34m.\u001b[0m\u001b[0mfit\u001b[0m\u001b[0;34m(\u001b[0m\u001b[0mX\u001b[0m\u001b[0;34m,\u001b[0m \u001b[0my\u001b[0m\u001b[0;34m,\u001b[0m \u001b[0msample_weight\u001b[0m\u001b[0;34m=\u001b[0m\u001b[0msample_weight\u001b[0m\u001b[0;34m)\u001b[0m\u001b[0;34m\u001b[0m\u001b[0;34m\u001b[0m\u001b[0m\n\u001b[1;32m     39\u001b[0m     \u001b[0;32melse\u001b[0m\u001b[0;34m:\u001b[0m\u001b[0;34m\u001b[0m\u001b[0;34m\u001b[0m\u001b[0m\n\u001b[0;32m---> 40\u001b[0;31m         \u001b[0mestimator\u001b[0m\u001b[0;34m.\u001b[0m\u001b[0mfit\u001b[0m\u001b[0;34m(\u001b[0m\u001b[0mX\u001b[0m\u001b[0;34m,\u001b[0m \u001b[0my\u001b[0m\u001b[0;34m)\u001b[0m\u001b[0;34m\u001b[0m\u001b[0;34m\u001b[0m\u001b[0m\n\u001b[0m\u001b[1;32m     41\u001b[0m     \u001b[0;32mreturn\u001b[0m \u001b[0mestimator\u001b[0m\u001b[0;34m\u001b[0m\u001b[0;34m\u001b[0m\u001b[0m\n\u001b[1;32m     42\u001b[0m \u001b[0;34m\u001b[0m\u001b[0m\n",
            "\u001b[0;32m/usr/local/lib/python3.6/dist-packages/sklearn/model_selection/_search.py\u001b[0m in \u001b[0;36mfit\u001b[0;34m(self, X, y, groups, **fit_params)\u001b[0m\n\u001b[1;32m    708\u001b[0m                 \u001b[0;32mreturn\u001b[0m \u001b[0mresults\u001b[0m\u001b[0;34m\u001b[0m\u001b[0;34m\u001b[0m\u001b[0m\n\u001b[1;32m    709\u001b[0m \u001b[0;34m\u001b[0m\u001b[0m\n\u001b[0;32m--> 710\u001b[0;31m             \u001b[0mself\u001b[0m\u001b[0;34m.\u001b[0m\u001b[0m_run_search\u001b[0m\u001b[0;34m(\u001b[0m\u001b[0mevaluate_candidates\u001b[0m\u001b[0;34m)\u001b[0m\u001b[0;34m\u001b[0m\u001b[0;34m\u001b[0m\u001b[0m\n\u001b[0m\u001b[1;32m    711\u001b[0m \u001b[0;34m\u001b[0m\u001b[0m\n\u001b[1;32m    712\u001b[0m         \u001b[0;31m# For multi-metric evaluation, store the best_index_, best_params_ and\u001b[0m\u001b[0;34m\u001b[0m\u001b[0;34m\u001b[0m\u001b[0;34m\u001b[0m\u001b[0m\n",
            "\u001b[0;32m/usr/local/lib/python3.6/dist-packages/sklearn/model_selection/_search.py\u001b[0m in \u001b[0;36m_run_search\u001b[0;34m(self, evaluate_candidates)\u001b[0m\n\u001b[1;32m   1149\u001b[0m     \u001b[0;32mdef\u001b[0m \u001b[0m_run_search\u001b[0m\u001b[0;34m(\u001b[0m\u001b[0mself\u001b[0m\u001b[0;34m,\u001b[0m \u001b[0mevaluate_candidates\u001b[0m\u001b[0;34m)\u001b[0m\u001b[0;34m:\u001b[0m\u001b[0;34m\u001b[0m\u001b[0;34m\u001b[0m\u001b[0m\n\u001b[1;32m   1150\u001b[0m         \u001b[0;34m\"\"\"Search all candidates in param_grid\"\"\"\u001b[0m\u001b[0;34m\u001b[0m\u001b[0;34m\u001b[0m\u001b[0m\n\u001b[0;32m-> 1151\u001b[0;31m         \u001b[0mevaluate_candidates\u001b[0m\u001b[0;34m(\u001b[0m\u001b[0mParameterGrid\u001b[0m\u001b[0;34m(\u001b[0m\u001b[0mself\u001b[0m\u001b[0;34m.\u001b[0m\u001b[0mparam_grid\u001b[0m\u001b[0;34m)\u001b[0m\u001b[0;34m)\u001b[0m\u001b[0;34m\u001b[0m\u001b[0;34m\u001b[0m\u001b[0m\n\u001b[0m\u001b[1;32m   1152\u001b[0m \u001b[0;34m\u001b[0m\u001b[0m\n\u001b[1;32m   1153\u001b[0m \u001b[0;34m\u001b[0m\u001b[0m\n",
            "\u001b[0;32m/usr/local/lib/python3.6/dist-packages/sklearn/model_selection/_search.py\u001b[0m in \u001b[0;36mevaluate_candidates\u001b[0;34m(candidate_params)\u001b[0m\n\u001b[1;32m    687\u001b[0m                                \u001b[0;32mfor\u001b[0m \u001b[0mparameters\u001b[0m\u001b[0;34m,\u001b[0m \u001b[0;34m(\u001b[0m\u001b[0mtrain\u001b[0m\u001b[0;34m,\u001b[0m \u001b[0mtest\u001b[0m\u001b[0;34m)\u001b[0m\u001b[0;34m\u001b[0m\u001b[0;34m\u001b[0m\u001b[0m\n\u001b[1;32m    688\u001b[0m                                in product(candidate_params,\n\u001b[0;32m--> 689\u001b[0;31m                                           cv.split(X, y, groups)))\n\u001b[0m\u001b[1;32m    690\u001b[0m \u001b[0;34m\u001b[0m\u001b[0m\n\u001b[1;32m    691\u001b[0m                 \u001b[0;32mif\u001b[0m \u001b[0mlen\u001b[0m\u001b[0;34m(\u001b[0m\u001b[0mout\u001b[0m\u001b[0;34m)\u001b[0m \u001b[0;34m<\u001b[0m \u001b[0;36m1\u001b[0m\u001b[0;34m:\u001b[0m\u001b[0;34m\u001b[0m\u001b[0;34m\u001b[0m\u001b[0m\n",
            "\u001b[0;32m/usr/local/lib/python3.6/dist-packages/joblib/parallel.py\u001b[0m in \u001b[0;36m__call__\u001b[0;34m(self, iterable)\u001b[0m\n\u001b[1;32m   1015\u001b[0m \u001b[0;34m\u001b[0m\u001b[0m\n\u001b[1;32m   1016\u001b[0m             \u001b[0;32mwith\u001b[0m \u001b[0mself\u001b[0m\u001b[0;34m.\u001b[0m\u001b[0m_backend\u001b[0m\u001b[0;34m.\u001b[0m\u001b[0mretrieval_context\u001b[0m\u001b[0;34m(\u001b[0m\u001b[0;34m)\u001b[0m\u001b[0;34m:\u001b[0m\u001b[0;34m\u001b[0m\u001b[0;34m\u001b[0m\u001b[0m\n\u001b[0;32m-> 1017\u001b[0;31m                 \u001b[0mself\u001b[0m\u001b[0;34m.\u001b[0m\u001b[0mretrieve\u001b[0m\u001b[0;34m(\u001b[0m\u001b[0;34m)\u001b[0m\u001b[0;34m\u001b[0m\u001b[0;34m\u001b[0m\u001b[0m\n\u001b[0m\u001b[1;32m   1018\u001b[0m             \u001b[0;31m# Make sure that we get a last message telling us we are done\u001b[0m\u001b[0;34m\u001b[0m\u001b[0;34m\u001b[0m\u001b[0;34m\u001b[0m\u001b[0m\n\u001b[1;32m   1019\u001b[0m             \u001b[0melapsed_time\u001b[0m \u001b[0;34m=\u001b[0m \u001b[0mtime\u001b[0m\u001b[0;34m.\u001b[0m\u001b[0mtime\u001b[0m\u001b[0;34m(\u001b[0m\u001b[0;34m)\u001b[0m \u001b[0;34m-\u001b[0m \u001b[0mself\u001b[0m\u001b[0;34m.\u001b[0m\u001b[0m_start_time\u001b[0m\u001b[0;34m\u001b[0m\u001b[0;34m\u001b[0m\u001b[0m\n",
            "\u001b[0;32m/usr/local/lib/python3.6/dist-packages/joblib/parallel.py\u001b[0m in \u001b[0;36mretrieve\u001b[0;34m(self)\u001b[0m\n\u001b[1;32m    907\u001b[0m             \u001b[0;32mtry\u001b[0m\u001b[0;34m:\u001b[0m\u001b[0;34m\u001b[0m\u001b[0;34m\u001b[0m\u001b[0m\n\u001b[1;32m    908\u001b[0m                 \u001b[0;32mif\u001b[0m \u001b[0mgetattr\u001b[0m\u001b[0;34m(\u001b[0m\u001b[0mself\u001b[0m\u001b[0;34m.\u001b[0m\u001b[0m_backend\u001b[0m\u001b[0;34m,\u001b[0m \u001b[0;34m'supports_timeout'\u001b[0m\u001b[0;34m,\u001b[0m \u001b[0;32mFalse\u001b[0m\u001b[0;34m)\u001b[0m\u001b[0;34m:\u001b[0m\u001b[0;34m\u001b[0m\u001b[0;34m\u001b[0m\u001b[0m\n\u001b[0;32m--> 909\u001b[0;31m                     \u001b[0mself\u001b[0m\u001b[0;34m.\u001b[0m\u001b[0m_output\u001b[0m\u001b[0;34m.\u001b[0m\u001b[0mextend\u001b[0m\u001b[0;34m(\u001b[0m\u001b[0mjob\u001b[0m\u001b[0;34m.\u001b[0m\u001b[0mget\u001b[0m\u001b[0;34m(\u001b[0m\u001b[0mtimeout\u001b[0m\u001b[0;34m=\u001b[0m\u001b[0mself\u001b[0m\u001b[0;34m.\u001b[0m\u001b[0mtimeout\u001b[0m\u001b[0;34m)\u001b[0m\u001b[0;34m)\u001b[0m\u001b[0;34m\u001b[0m\u001b[0;34m\u001b[0m\u001b[0m\n\u001b[0m\u001b[1;32m    910\u001b[0m                 \u001b[0;32melse\u001b[0m\u001b[0;34m:\u001b[0m\u001b[0;34m\u001b[0m\u001b[0;34m\u001b[0m\u001b[0m\n\u001b[1;32m    911\u001b[0m                     \u001b[0mself\u001b[0m\u001b[0;34m.\u001b[0m\u001b[0m_output\u001b[0m\u001b[0;34m.\u001b[0m\u001b[0mextend\u001b[0m\u001b[0;34m(\u001b[0m\u001b[0mjob\u001b[0m\u001b[0;34m.\u001b[0m\u001b[0mget\u001b[0m\u001b[0;34m(\u001b[0m\u001b[0;34m)\u001b[0m\u001b[0;34m)\u001b[0m\u001b[0;34m\u001b[0m\u001b[0;34m\u001b[0m\u001b[0m\n",
            "\u001b[0;32m/usr/local/lib/python3.6/dist-packages/joblib/_parallel_backends.py\u001b[0m in \u001b[0;36mwrap_future_result\u001b[0;34m(future, timeout)\u001b[0m\n\u001b[1;32m    560\u001b[0m         AsyncResults.get from multiprocessing.\"\"\"\n\u001b[1;32m    561\u001b[0m         \u001b[0;32mtry\u001b[0m\u001b[0;34m:\u001b[0m\u001b[0;34m\u001b[0m\u001b[0;34m\u001b[0m\u001b[0m\n\u001b[0;32m--> 562\u001b[0;31m             \u001b[0;32mreturn\u001b[0m \u001b[0mfuture\u001b[0m\u001b[0;34m.\u001b[0m\u001b[0mresult\u001b[0m\u001b[0;34m(\u001b[0m\u001b[0mtimeout\u001b[0m\u001b[0;34m=\u001b[0m\u001b[0mtimeout\u001b[0m\u001b[0;34m)\u001b[0m\u001b[0;34m\u001b[0m\u001b[0;34m\u001b[0m\u001b[0m\n\u001b[0m\u001b[1;32m    563\u001b[0m         \u001b[0;32mexcept\u001b[0m \u001b[0mLokyTimeoutError\u001b[0m\u001b[0;34m:\u001b[0m\u001b[0;34m\u001b[0m\u001b[0;34m\u001b[0m\u001b[0m\n\u001b[1;32m    564\u001b[0m             \u001b[0;32mraise\u001b[0m \u001b[0mTimeoutError\u001b[0m\u001b[0;34m(\u001b[0m\u001b[0;34m)\u001b[0m\u001b[0;34m\u001b[0m\u001b[0;34m\u001b[0m\u001b[0m\n",
            "\u001b[0;32m/usr/lib/python3.6/concurrent/futures/_base.py\u001b[0m in \u001b[0;36mresult\u001b[0;34m(self, timeout)\u001b[0m\n\u001b[1;32m    425\u001b[0m                 \u001b[0;32mreturn\u001b[0m \u001b[0mself\u001b[0m\u001b[0;34m.\u001b[0m\u001b[0m__get_result\u001b[0m\u001b[0;34m(\u001b[0m\u001b[0;34m)\u001b[0m\u001b[0;34m\u001b[0m\u001b[0;34m\u001b[0m\u001b[0m\n\u001b[1;32m    426\u001b[0m \u001b[0;34m\u001b[0m\u001b[0m\n\u001b[0;32m--> 427\u001b[0;31m             \u001b[0mself\u001b[0m\u001b[0;34m.\u001b[0m\u001b[0m_condition\u001b[0m\u001b[0;34m.\u001b[0m\u001b[0mwait\u001b[0m\u001b[0;34m(\u001b[0m\u001b[0mtimeout\u001b[0m\u001b[0;34m)\u001b[0m\u001b[0;34m\u001b[0m\u001b[0;34m\u001b[0m\u001b[0m\n\u001b[0m\u001b[1;32m    428\u001b[0m \u001b[0;34m\u001b[0m\u001b[0m\n\u001b[1;32m    429\u001b[0m             \u001b[0;32mif\u001b[0m \u001b[0mself\u001b[0m\u001b[0;34m.\u001b[0m\u001b[0m_state\u001b[0m \u001b[0;32min\u001b[0m \u001b[0;34m[\u001b[0m\u001b[0mCANCELLED\u001b[0m\u001b[0;34m,\u001b[0m \u001b[0mCANCELLED_AND_NOTIFIED\u001b[0m\u001b[0;34m]\u001b[0m\u001b[0;34m:\u001b[0m\u001b[0;34m\u001b[0m\u001b[0;34m\u001b[0m\u001b[0m\n",
            "\u001b[0;32m/usr/lib/python3.6/threading.py\u001b[0m in \u001b[0;36mwait\u001b[0;34m(self, timeout)\u001b[0m\n\u001b[1;32m    293\u001b[0m         \u001b[0;32mtry\u001b[0m\u001b[0;34m:\u001b[0m    \u001b[0;31m# restore state no matter what (e.g., KeyboardInterrupt)\u001b[0m\u001b[0;34m\u001b[0m\u001b[0;34m\u001b[0m\u001b[0m\n\u001b[1;32m    294\u001b[0m             \u001b[0;32mif\u001b[0m \u001b[0mtimeout\u001b[0m \u001b[0;32mis\u001b[0m \u001b[0;32mNone\u001b[0m\u001b[0;34m:\u001b[0m\u001b[0;34m\u001b[0m\u001b[0;34m\u001b[0m\u001b[0m\n\u001b[0;32m--> 295\u001b[0;31m                 \u001b[0mwaiter\u001b[0m\u001b[0;34m.\u001b[0m\u001b[0macquire\u001b[0m\u001b[0;34m(\u001b[0m\u001b[0;34m)\u001b[0m\u001b[0;34m\u001b[0m\u001b[0;34m\u001b[0m\u001b[0m\n\u001b[0m\u001b[1;32m    296\u001b[0m                 \u001b[0mgotit\u001b[0m \u001b[0;34m=\u001b[0m \u001b[0;32mTrue\u001b[0m\u001b[0;34m\u001b[0m\u001b[0;34m\u001b[0m\u001b[0m\n\u001b[1;32m    297\u001b[0m             \u001b[0;32melse\u001b[0m\u001b[0;34m:\u001b[0m\u001b[0;34m\u001b[0m\u001b[0;34m\u001b[0m\u001b[0m\n",
            "\u001b[0;31mKeyboardInterrupt\u001b[0m: "
          ]
        }
      ]
    }
  ]
}
